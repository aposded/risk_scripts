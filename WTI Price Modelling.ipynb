{
  "cells": [
    {
      "cell_type": "markdown",
      "source": [
        "# WTI Price Modelling"
      ],
      "metadata": {
        "id": "uP6ciMT_4KnI"
      }
    },
    {
      "cell_type": "code",
      "source": [
        "import numpy as np\n",
        "import pandas as pd\n",
        "from sklearn.linear_model import LinearRegression\n",
        "from sklearn.preprocessing import PolynomialFeatures\n",
        "import matplotlib.pyplot as plt\n",
        "import seaborn as sns\n",
        "import numba as nb\n",
        "from statsmodels.tsa.statespace.sarimax import SARIMAX\n",
        "from sklearn.preprocessing import StandardScaler\n",
        "from xgboost import XGBRegressor\n",
        "from sklearn.metrics import mean_squared_error, r2_score"
      ],
      "metadata": {
        "id": "64NAO8Xx83aY"
      },
      "execution_count": 263,
      "outputs": []
    },
    {
      "cell_type": "code",
      "source": [
        "data = pd.read_csv('dataset.csv')\n",
        "\n",
        "scaler = StandardScaler(with_mean=True)\n",
        "scaler = StandardScaler(with_mean=True)\n",
        "\n",
        "train_test_split_date = '2024-06-01'"
      ],
      "metadata": {
        "id": "_JVExnZ44J7h"
      },
      "execution_count": 264,
      "outputs": []
    },
    {
      "cell_type": "code",
      "source": [
        "data.head()"
      ],
      "metadata": {
        "colab": {
          "base_uri": "https://localhost:8080/",
          "height": 206
        },
        "id": "RzPITmQLSKcn",
        "outputId": "b879b270-45ba-476c-f606-bb05306ba0d8"
      },
      "execution_count": 265,
      "outputs": [
        {
          "output_type": "execute_result",
          "data": {
            "text/plain": [
              "       Date  Price   Open   High    Low    Vol.  Change %    DXY  \\\n",
              "0  7/7/2025  67.16  65.92  67.18  65.55   49710    0.0190  97.38   \n",
              "1  6/7/2025  65.91  65.82  66.18  65.68    9560   -0.0087  96.96   \n",
              "2  4/7/2025  66.49  67.13  67.16  66.05   56220   -0.0076  96.96   \n",
              "3  3/7/2025  67.00  67.50  67.58  66.53  220440   -0.0067  97.18   \n",
              "4  2/7/2025  67.45  65.56  67.58  65.23  265200    0.0306  96.78   \n",
              "\n",
              "   Geopolitical Risk Index  US 10-year Treasury Yield     VIX  \\\n",
              "0                   207.74                      4.360  17.790   \n",
              "1                   207.74                      4.324  17.635   \n",
              "2                   207.74                      4.328  17.480   \n",
              "3                   207.74                      4.346  16.380   \n",
              "4                   207.74                      4.282  16.640   \n",
              "\n",
              "   WTI-Brent Spread  \n",
              "0            -3.100  \n",
              "1            -3.125  \n",
              "2            -3.150  \n",
              "3            -3.160  \n",
              "4            -3.110  "
            ],
            "text/html": [
              "\n",
              "  <div id=\"df-51925d55-b5b4-4f1e-954f-257296a31f6d\" class=\"colab-df-container\">\n",
              "    <div>\n",
              "<style scoped>\n",
              "    .dataframe tbody tr th:only-of-type {\n",
              "        vertical-align: middle;\n",
              "    }\n",
              "\n",
              "    .dataframe tbody tr th {\n",
              "        vertical-align: top;\n",
              "    }\n",
              "\n",
              "    .dataframe thead th {\n",
              "        text-align: right;\n",
              "    }\n",
              "</style>\n",
              "<table border=\"1\" class=\"dataframe\">\n",
              "  <thead>\n",
              "    <tr style=\"text-align: right;\">\n",
              "      <th></th>\n",
              "      <th>Date</th>\n",
              "      <th>Price</th>\n",
              "      <th>Open</th>\n",
              "      <th>High</th>\n",
              "      <th>Low</th>\n",
              "      <th>Vol.</th>\n",
              "      <th>Change %</th>\n",
              "      <th>DXY</th>\n",
              "      <th>Geopolitical Risk Index</th>\n",
              "      <th>US 10-year Treasury Yield</th>\n",
              "      <th>VIX</th>\n",
              "      <th>WTI-Brent Spread</th>\n",
              "    </tr>\n",
              "  </thead>\n",
              "  <tbody>\n",
              "    <tr>\n",
              "      <th>0</th>\n",
              "      <td>7/7/2025</td>\n",
              "      <td>67.16</td>\n",
              "      <td>65.92</td>\n",
              "      <td>67.18</td>\n",
              "      <td>65.55</td>\n",
              "      <td>49710</td>\n",
              "      <td>0.0190</td>\n",
              "      <td>97.38</td>\n",
              "      <td>207.74</td>\n",
              "      <td>4.360</td>\n",
              "      <td>17.790</td>\n",
              "      <td>-3.100</td>\n",
              "    </tr>\n",
              "    <tr>\n",
              "      <th>1</th>\n",
              "      <td>6/7/2025</td>\n",
              "      <td>65.91</td>\n",
              "      <td>65.82</td>\n",
              "      <td>66.18</td>\n",
              "      <td>65.68</td>\n",
              "      <td>9560</td>\n",
              "      <td>-0.0087</td>\n",
              "      <td>96.96</td>\n",
              "      <td>207.74</td>\n",
              "      <td>4.324</td>\n",
              "      <td>17.635</td>\n",
              "      <td>-3.125</td>\n",
              "    </tr>\n",
              "    <tr>\n",
              "      <th>2</th>\n",
              "      <td>4/7/2025</td>\n",
              "      <td>66.49</td>\n",
              "      <td>67.13</td>\n",
              "      <td>67.16</td>\n",
              "      <td>66.05</td>\n",
              "      <td>56220</td>\n",
              "      <td>-0.0076</td>\n",
              "      <td>96.96</td>\n",
              "      <td>207.74</td>\n",
              "      <td>4.328</td>\n",
              "      <td>17.480</td>\n",
              "      <td>-3.150</td>\n",
              "    </tr>\n",
              "    <tr>\n",
              "      <th>3</th>\n",
              "      <td>3/7/2025</td>\n",
              "      <td>67.00</td>\n",
              "      <td>67.50</td>\n",
              "      <td>67.58</td>\n",
              "      <td>66.53</td>\n",
              "      <td>220440</td>\n",
              "      <td>-0.0067</td>\n",
              "      <td>97.18</td>\n",
              "      <td>207.74</td>\n",
              "      <td>4.346</td>\n",
              "      <td>16.380</td>\n",
              "      <td>-3.160</td>\n",
              "    </tr>\n",
              "    <tr>\n",
              "      <th>4</th>\n",
              "      <td>2/7/2025</td>\n",
              "      <td>67.45</td>\n",
              "      <td>65.56</td>\n",
              "      <td>67.58</td>\n",
              "      <td>65.23</td>\n",
              "      <td>265200</td>\n",
              "      <td>0.0306</td>\n",
              "      <td>96.78</td>\n",
              "      <td>207.74</td>\n",
              "      <td>4.282</td>\n",
              "      <td>16.640</td>\n",
              "      <td>-3.110</td>\n",
              "    </tr>\n",
              "  </tbody>\n",
              "</table>\n",
              "</div>\n",
              "    <div class=\"colab-df-buttons\">\n",
              "\n",
              "  <div class=\"colab-df-container\">\n",
              "    <button class=\"colab-df-convert\" onclick=\"convertToInteractive('df-51925d55-b5b4-4f1e-954f-257296a31f6d')\"\n",
              "            title=\"Convert this dataframe to an interactive table.\"\n",
              "            style=\"display:none;\">\n",
              "\n",
              "  <svg xmlns=\"http://www.w3.org/2000/svg\" height=\"24px\" viewBox=\"0 -960 960 960\">\n",
              "    <path d=\"M120-120v-720h720v720H120Zm60-500h600v-160H180v160Zm220 220h160v-160H400v160Zm0 220h160v-160H400v160ZM180-400h160v-160H180v160Zm440 0h160v-160H620v160ZM180-180h160v-160H180v160Zm440 0h160v-160H620v160Z\"/>\n",
              "  </svg>\n",
              "    </button>\n",
              "\n",
              "  <style>\n",
              "    .colab-df-container {\n",
              "      display:flex;\n",
              "      gap: 12px;\n",
              "    }\n",
              "\n",
              "    .colab-df-convert {\n",
              "      background-color: #E8F0FE;\n",
              "      border: none;\n",
              "      border-radius: 50%;\n",
              "      cursor: pointer;\n",
              "      display: none;\n",
              "      fill: #1967D2;\n",
              "      height: 32px;\n",
              "      padding: 0 0 0 0;\n",
              "      width: 32px;\n",
              "    }\n",
              "\n",
              "    .colab-df-convert:hover {\n",
              "      background-color: #E2EBFA;\n",
              "      box-shadow: 0px 1px 2px rgba(60, 64, 67, 0.3), 0px 1px 3px 1px rgba(60, 64, 67, 0.15);\n",
              "      fill: #174EA6;\n",
              "    }\n",
              "\n",
              "    .colab-df-buttons div {\n",
              "      margin-bottom: 4px;\n",
              "    }\n",
              "\n",
              "    [theme=dark] .colab-df-convert {\n",
              "      background-color: #3B4455;\n",
              "      fill: #D2E3FC;\n",
              "    }\n",
              "\n",
              "    [theme=dark] .colab-df-convert:hover {\n",
              "      background-color: #434B5C;\n",
              "      box-shadow: 0px 1px 3px 1px rgba(0, 0, 0, 0.15);\n",
              "      filter: drop-shadow(0px 1px 2px rgba(0, 0, 0, 0.3));\n",
              "      fill: #FFFFFF;\n",
              "    }\n",
              "  </style>\n",
              "\n",
              "    <script>\n",
              "      const buttonEl =\n",
              "        document.querySelector('#df-51925d55-b5b4-4f1e-954f-257296a31f6d button.colab-df-convert');\n",
              "      buttonEl.style.display =\n",
              "        google.colab.kernel.accessAllowed ? 'block' : 'none';\n",
              "\n",
              "      async function convertToInteractive(key) {\n",
              "        const element = document.querySelector('#df-51925d55-b5b4-4f1e-954f-257296a31f6d');\n",
              "        const dataTable =\n",
              "          await google.colab.kernel.invokeFunction('convertToInteractive',\n",
              "                                                    [key], {});\n",
              "        if (!dataTable) return;\n",
              "\n",
              "        const docLinkHtml = 'Like what you see? Visit the ' +\n",
              "          '<a target=\"_blank\" href=https://colab.research.google.com/notebooks/data_table.ipynb>data table notebook</a>'\n",
              "          + ' to learn more about interactive tables.';\n",
              "        element.innerHTML = '';\n",
              "        dataTable['output_type'] = 'display_data';\n",
              "        await google.colab.output.renderOutput(dataTable, element);\n",
              "        const docLink = document.createElement('div');\n",
              "        docLink.innerHTML = docLinkHtml;\n",
              "        element.appendChild(docLink);\n",
              "      }\n",
              "    </script>\n",
              "  </div>\n",
              "\n",
              "\n",
              "    <div id=\"df-08e008d1-5c0b-460d-848d-d6ace850fb2e\">\n",
              "      <button class=\"colab-df-quickchart\" onclick=\"quickchart('df-08e008d1-5c0b-460d-848d-d6ace850fb2e')\"\n",
              "                title=\"Suggest charts\"\n",
              "                style=\"display:none;\">\n",
              "\n",
              "<svg xmlns=\"http://www.w3.org/2000/svg\" height=\"24px\"viewBox=\"0 0 24 24\"\n",
              "     width=\"24px\">\n",
              "    <g>\n",
              "        <path d=\"M19 3H5c-1.1 0-2 .9-2 2v14c0 1.1.9 2 2 2h14c1.1 0 2-.9 2-2V5c0-1.1-.9-2-2-2zM9 17H7v-7h2v7zm4 0h-2V7h2v10zm4 0h-2v-4h2v4z\"/>\n",
              "    </g>\n",
              "</svg>\n",
              "      </button>\n",
              "\n",
              "<style>\n",
              "  .colab-df-quickchart {\n",
              "      --bg-color: #E8F0FE;\n",
              "      --fill-color: #1967D2;\n",
              "      --hover-bg-color: #E2EBFA;\n",
              "      --hover-fill-color: #174EA6;\n",
              "      --disabled-fill-color: #AAA;\n",
              "      --disabled-bg-color: #DDD;\n",
              "  }\n",
              "\n",
              "  [theme=dark] .colab-df-quickchart {\n",
              "      --bg-color: #3B4455;\n",
              "      --fill-color: #D2E3FC;\n",
              "      --hover-bg-color: #434B5C;\n",
              "      --hover-fill-color: #FFFFFF;\n",
              "      --disabled-bg-color: #3B4455;\n",
              "      --disabled-fill-color: #666;\n",
              "  }\n",
              "\n",
              "  .colab-df-quickchart {\n",
              "    background-color: var(--bg-color);\n",
              "    border: none;\n",
              "    border-radius: 50%;\n",
              "    cursor: pointer;\n",
              "    display: none;\n",
              "    fill: var(--fill-color);\n",
              "    height: 32px;\n",
              "    padding: 0;\n",
              "    width: 32px;\n",
              "  }\n",
              "\n",
              "  .colab-df-quickchart:hover {\n",
              "    background-color: var(--hover-bg-color);\n",
              "    box-shadow: 0 1px 2px rgba(60, 64, 67, 0.3), 0 1px 3px 1px rgba(60, 64, 67, 0.15);\n",
              "    fill: var(--button-hover-fill-color);\n",
              "  }\n",
              "\n",
              "  .colab-df-quickchart-complete:disabled,\n",
              "  .colab-df-quickchart-complete:disabled:hover {\n",
              "    background-color: var(--disabled-bg-color);\n",
              "    fill: var(--disabled-fill-color);\n",
              "    box-shadow: none;\n",
              "  }\n",
              "\n",
              "  .colab-df-spinner {\n",
              "    border: 2px solid var(--fill-color);\n",
              "    border-color: transparent;\n",
              "    border-bottom-color: var(--fill-color);\n",
              "    animation:\n",
              "      spin 1s steps(1) infinite;\n",
              "  }\n",
              "\n",
              "  @keyframes spin {\n",
              "    0% {\n",
              "      border-color: transparent;\n",
              "      border-bottom-color: var(--fill-color);\n",
              "      border-left-color: var(--fill-color);\n",
              "    }\n",
              "    20% {\n",
              "      border-color: transparent;\n",
              "      border-left-color: var(--fill-color);\n",
              "      border-top-color: var(--fill-color);\n",
              "    }\n",
              "    30% {\n",
              "      border-color: transparent;\n",
              "      border-left-color: var(--fill-color);\n",
              "      border-top-color: var(--fill-color);\n",
              "      border-right-color: var(--fill-color);\n",
              "    }\n",
              "    40% {\n",
              "      border-color: transparent;\n",
              "      border-right-color: var(--fill-color);\n",
              "      border-top-color: var(--fill-color);\n",
              "    }\n",
              "    60% {\n",
              "      border-color: transparent;\n",
              "      border-right-color: var(--fill-color);\n",
              "    }\n",
              "    80% {\n",
              "      border-color: transparent;\n",
              "      border-right-color: var(--fill-color);\n",
              "      border-bottom-color: var(--fill-color);\n",
              "    }\n",
              "    90% {\n",
              "      border-color: transparent;\n",
              "      border-bottom-color: var(--fill-color);\n",
              "    }\n",
              "  }\n",
              "</style>\n",
              "\n",
              "      <script>\n",
              "        async function quickchart(key) {\n",
              "          const quickchartButtonEl =\n",
              "            document.querySelector('#' + key + ' button');\n",
              "          quickchartButtonEl.disabled = true;  // To prevent multiple clicks.\n",
              "          quickchartButtonEl.classList.add('colab-df-spinner');\n",
              "          try {\n",
              "            const charts = await google.colab.kernel.invokeFunction(\n",
              "                'suggestCharts', [key], {});\n",
              "          } catch (error) {\n",
              "            console.error('Error during call to suggestCharts:', error);\n",
              "          }\n",
              "          quickchartButtonEl.classList.remove('colab-df-spinner');\n",
              "          quickchartButtonEl.classList.add('colab-df-quickchart-complete');\n",
              "        }\n",
              "        (() => {\n",
              "          let quickchartButtonEl =\n",
              "            document.querySelector('#df-08e008d1-5c0b-460d-848d-d6ace850fb2e button');\n",
              "          quickchartButtonEl.style.display =\n",
              "            google.colab.kernel.accessAllowed ? 'block' : 'none';\n",
              "        })();\n",
              "      </script>\n",
              "    </div>\n",
              "\n",
              "    </div>\n",
              "  </div>\n"
            ],
            "application/vnd.google.colaboratory.intrinsic+json": {
              "type": "dataframe",
              "variable_name": "data",
              "summary": "{\n  \"name\": \"data\",\n  \"rows\": 1313,\n  \"fields\": [\n    {\n      \"column\": \"Date\",\n      \"properties\": {\n        \"dtype\": \"string\",\n        \"num_unique_values\": 1313,\n        \"samples\": [\n          \"30/4/2025\",\n          \"13/12/2023\",\n          \"3/10/2022\"\n        ],\n        \"semantic_type\": \"\",\n        \"description\": \"\"\n      }\n    },\n    {\n      \"column\": \"Price\",\n      \"properties\": {\n        \"dtype\": \"number\",\n        \"std\": 15.630437514891872,\n        \"min\": 36.15,\n        \"max\": 119.78,\n        \"num_unique_values\": 1140,\n        \"samples\": [\n          90.33,\n          72.77,\n          82.03\n        ],\n        \"semantic_type\": \"\",\n        \"description\": \"\"\n      }\n    },\n    {\n      \"column\": \"Open\",\n      \"properties\": {\n        \"dtype\": \"number\",\n        \"std\": 15.670231346669054,\n        \"min\": 35.5,\n        \"max\": 120.66,\n        \"num_unique_values\": 1123,\n        \"samples\": [\n          60.36,\n          79.8,\n          72.18\n        ],\n        \"semantic_type\": \"\",\n        \"description\": \"\"\n      }\n    },\n    {\n      \"column\": \"High\",\n      \"properties\": {\n        \"dtype\": \"number\",\n        \"std\": 16.056142084360037,\n        \"min\": 36.93,\n        \"max\": 126.42,\n        \"num_unique_values\": 1126,\n        \"samples\": [\n          43.51,\n          38.12,\n          109.2\n        ],\n        \"semantic_type\": \"\",\n        \"description\": \"\"\n      }\n    },\n    {\n      \"column\": \"Low\",\n      \"properties\": {\n        \"dtype\": \"number\",\n        \"std\": 15.237870127990035,\n        \"min\": 34.04,\n        \"max\": 118.52,\n        \"num_unique_values\": 1133,\n        \"samples\": [\n          87.79,\n          71.97,\n          86.74\n        ],\n        \"semantic_type\": \"\",\n        \"description\": \"\"\n      }\n    },\n    {\n      \"column\": \"Vol.\",\n      \"properties\": {\n        \"dtype\": \"number\",\n        \"std\": 114780,\n        \"min\": 0,\n        \"max\": 789040,\n        \"num_unique_values\": 1246,\n        \"samples\": [\n          144820,\n          234180,\n          256960\n        ],\n        \"semantic_type\": \"\",\n        \"description\": \"\"\n      }\n    },\n    {\n      \"column\": \"Change %\",\n      \"properties\": {\n        \"dtype\": \"number\",\n        \"std\": 0.022502921060157225,\n        \"min\": -0.1257,\n        \"max\": 0.0861,\n        \"num_unique_values\": 652,\n        \"samples\": [\n          -0.0431,\n          0.0265,\n          0.0151\n        ],\n        \"semantic_type\": \"\",\n        \"description\": \"\"\n      }\n    },\n    {\n      \"column\": \"DXY\",\n      \"properties\": {\n        \"dtype\": \"number\",\n        \"std\": 5.653015289127205,\n        \"min\": 89.44,\n        \"max\": 114.11,\n        \"num_unique_values\": 816,\n        \"samples\": [\n          101.34,\n          103.27,\n          90.71\n        ],\n        \"semantic_type\": \"\",\n        \"description\": \"\"\n      }\n    },\n    {\n      \"column\": \"Geopolitical Risk Index\",\n      \"properties\": {\n        \"dtype\": \"number\",\n        \"std\": 43.96002793272065,\n        \"min\": 58.42,\n        \"max\": 318.95,\n        \"num_unique_values\": 54,\n        \"samples\": [\n          156.7,\n          93.01,\n          74.13\n        ],\n        \"semantic_type\": \"\",\n        \"description\": \"\"\n      }\n    },\n    {\n      \"column\": \"US 10-year Treasury Yield\",\n      \"properties\": {\n        \"dtype\": \"number\",\n        \"std\": 2.6541658630944682,\n        \"min\": 0.918,\n        \"max\": 42.525,\n        \"num_unique_values\": 946,\n        \"samples\": [\n          4.209,\n          4.474,\n          1.26\n        ],\n        \"semantic_type\": \"\",\n        \"description\": \"\"\n      }\n    },\n    {\n      \"column\": \"VIX\",\n      \"properties\": {\n        \"dtype\": \"number\",\n        \"std\": 5.434542568416511,\n        \"min\": 11.86,\n        \"max\": 52.33,\n        \"num_unique_values\": 865,\n        \"samples\": [\n          20.72,\n          18.41,\n          26.19\n        ],\n        \"semantic_type\": \"\",\n        \"description\": \"\"\n      }\n    },\n    {\n      \"column\": \"WTI-Brent Spread\",\n      \"properties\": {\n        \"dtype\": \"number\",\n        \"std\": 1.3747545961251253,\n        \"min\": -11.39,\n        \"max\": -0.81,\n        \"num_unique_values\": 473,\n        \"samples\": [\n          -3.67,\n          -3.62,\n          -3.36\n        ],\n        \"semantic_type\": \"\",\n        \"description\": \"\"\n      }\n    }\n  ]\n}"
            }
          },
          "metadata": {},
          "execution_count": 265
        }
      ]
    },
    {
      "cell_type": "code",
      "source": [
        "data['Date'] = pd.to_datetime(data['Date'], dayfirst=True)\n",
        "data.set_index('Date', inplace=True)\n",
        "\n",
        "data = data.sort_values('Date', ascending=True)"
      ],
      "metadata": {
        "id": "AKdJOavqRTcE"
      },
      "execution_count": 266,
      "outputs": []
    },
    {
      "cell_type": "markdown",
      "source": [
        "# XGBoost Model"
      ],
      "metadata": {
        "id": "Vd2xoKmNmlO1"
      }
    },
    {
      "cell_type": "code",
      "source": [
        "xgb_df = data.copy()"
      ],
      "metadata": {
        "id": "ObLQ3ji2pTa3"
      },
      "execution_count": 267,
      "outputs": []
    },
    {
      "cell_type": "markdown",
      "source": [
        "Feature Engineering"
      ],
      "metadata": {
        "id": "8OEOWAt1oN1T"
      }
    },
    {
      "cell_type": "code",
      "source": [
        "xgb_df['Price_lag1'] = xgb_df['Price'].shift(1)\n",
        "\n",
        "xgb_df['Price_SMA_5'] = xgb_df['Price'].rolling(window=5).mean().shift(1)\n",
        "xgb_df['Price_SMA_10'] = xgb_df['Price'].rolling(window=10).mean().shift(1)\n",
        "xgb_df['Price_SMA_20'] = xgb_df['Price'].rolling(window=20).mean().shift(1)\n",
        "\n",
        "def compute_rsi(xgb_df, window=14):\n",
        "  delta = xgb_df['Price'].diff()\n",
        "  gain = (delta.where(delta > 0, 0)).rolling(window=window).mean()\n",
        "  loss = (-delta.where(delta < 0, 0)).rolling(window=window).mean()\n",
        "  rs = gain / loss\n",
        "  return 100 - (100 / (1 + rs))\n",
        "\n",
        "xgb_df['Price_RSI_14'] = compute_rsi(xgb_df, window=14).shift(1)\n",
        "\n",
        "xgb_df['Price_Rolling_Std_20'] = xgb_df['Price'].rolling(window=20).std().shift(1)\n",
        "xgb_df['Upper_Band'] = xgb_df['Price_SMA_20'] + (xgb_df['Price_Rolling_Std_20'] * 2)\n",
        "xgb_df['Lower_Band'] = xgb_df['Price_SMA_20'] - (xgb_df['Price_Rolling_Std_20'] * 2)\n",
        "\n",
        "xgb_df['Price_vs_SMA_5'] = xgb_df['Price_lag1'] - xgb_df['Price_SMA_5']\n",
        "xgb_df['Price_vs_SMA_10'] = xgb_df['Price_lag1'] - xgb_df['Price_SMA_10']\n",
        "xgb_df['Price_vs_SMA_20'] = xgb_df['Price_lag1'] - xgb_df['Price_SMA_20']\n",
        "\n",
        "xgb_df['Price_vs_Upper_Band'] = xgb_df['Price_lag1'] - xgb_df['Upper_Band']\n",
        "xgb_df['Price_vs_Lower_Band'] = xgb_df['Price_lag1'] - xgb_df['Lower_Band']\n",
        "\n",
        "exogenous_features_xgb = [\n",
        "    'Price_SMA_5', 'Price_SMA_10', 'Price_SMA_20', 'Price_RSI_14',\n",
        "    'Upper_Band', 'Lower_Band', 'Price_Rolling_Std_20',\n",
        "    'Price_vs_SMA_5', 'Price_vs_SMA_10', 'Price_vs_SMA_20',\n",
        "    'Price_vs_Upper_Band', 'Price_vs_Lower_Band'\n",
        "]"
      ],
      "metadata": {
        "id": "7aqZQ1OpmmpK"
      },
      "execution_count": 268,
      "outputs": []
    },
    {
      "cell_type": "markdown",
      "source": [
        "Train/Test Split"
      ],
      "metadata": {
        "id": "uhSG4MUcopdC"
      }
    },
    {
      "cell_type": "code",
      "source": [
        "xgb_df = xgb_df.dropna()\n",
        "\n",
        "train_split = xgb_df[xgb_df.index < train_test_split_date]\n",
        "test_split = xgb_df[xgb_df.index >= train_test_split_date]\n",
        "\n",
        "train_split.loc[:, exogenous_features_xgb] = scaler.fit_transform(train_split[exogenous_features_xgb])\n",
        "test_split.loc[:, exogenous_features_xgb] = scaler.transform(test_split[exogenous_features_xgb])\n",
        "\n",
        "\n",
        "X_train_xgb = train_split[exogenous_features_xgb]\n",
        "y_train_xgb = train_split['Price']\n",
        "X_test_xgb = test_split[exogenous_features_xgb]\n",
        "y_test_xgb = test_split['Price']"
      ],
      "metadata": {
        "id": "OVd3yOUVoorp"
      },
      "execution_count": 269,
      "outputs": []
    },
    {
      "cell_type": "markdown",
      "source": [
        "Model"
      ],
      "metadata": {
        "id": "P9jK1KL3o0z6"
      }
    },
    {
      "cell_type": "code",
      "source": [
        "xgb_model = XGBRegressor(objective='reg:squarederror', n_estimators=1000, learning_rate=0.05, max_depth=5, random_state=42, n_jobs=-1)\n",
        "xgb_model.fit(X_train_xgb, y_train_xgb)\n",
        "\n",
        "predictions_xgb = xgb_model.predict(X_test_xgb)"
      ],
      "metadata": {
        "id": "IzgygnBjo18K"
      },
      "execution_count": 270,
      "outputs": []
    },
    {
      "cell_type": "markdown",
      "source": [
        "Evaluation"
      ],
      "metadata": {
        "id": "ganPTvSKo7pC"
      }
    },
    {
      "cell_type": "code",
      "source": [
        "mse_xgb = mean_squared_error(y_test_xgb, predictions_xgb)\n",
        "rmse_xgb = np.sqrt(mse_xgb)\n",
        "r2_xgb = r2_score(y_test_xgb, predictions_xgb)\n",
        "\n",
        "print(f'XGBoost Mean Squared Error: {mse_xgb}')\n",
        "print(f'XGBoost Root Mean Squared Error: {rmse_xgb}')\n",
        "print(f'XGBoost R-squared: {r2_xgb}')\n",
        "\n",
        "plt.figure(figsize=(12, 6))\n",
        "plt.plot(train_split.index, train_split['Price'], label='Train Price')\n",
        "plt.plot(test_split.index, y_test_xgb, label='Actual Test Price', color='red')\n",
        "plt.plot(test_split.index, predictions_xgb, label='XGBoost Predictions', color='green', linestyle='--')\n",
        "plt.title('Brent Crude Oil Price Prediction using XGBoost')\n",
        "plt.xlabel('Date')\n",
        "plt.ylabel('Price')\n",
        "plt.legend()\n",
        "plt.show()\n"
      ],
      "metadata": {
        "colab": {
          "base_uri": "https://localhost:8080/",
          "height": 616
        },
        "id": "VmIf8fIuo7WK",
        "outputId": "74fc5593-fe39-4606-b267-2e60e319bef4"
      },
      "execution_count": 271,
      "outputs": [
        {
          "output_type": "stream",
          "name": "stdout",
          "text": [
            "XGBoost Mean Squared Error: 3.796654269046938\n",
            "XGBoost Root Mean Squared Error: 1.9485005181028148\n",
            "XGBoost R-squared: 0.8835001307859566\n"
          ]
        },
        {
          "output_type": "display_data",
          "data": {
            "text/plain": [
              "<Figure size 1200x600 with 1 Axes>"
            ],
            "image/png": "[encoded data removed]"
          },
          "metadata": {}
        }
      ]
    },
    {
      "cell_type": "markdown",
      "source": [
        "# Monte Carlo Simulation"
      ],
      "metadata": {
        "id": "AMRwfZ9Rzfkf"
      }
    },
    {
      "cell_type": "code",
      "source": [
        "def calculate_payoff(curr_price):\n",
        "  return curr_price - 60"
      ],
      "metadata": {
        "id": "YjOA_m6XziuG"
      },
      "execution_count": 272,
      "outputs": []
    },
    {
      "cell_type": "code",
      "source": [
        "def run_occurence(\n",
        "    days: int,\n",
        "    initial_df: pd.DataFrame,\n",
        "    model,\n",
        "    features: list[str],\n",
        "    scaler,\n",
        "    randomize: bool = False,\n",
        "    seed: int | None = None,\n",
        "    implied_volatility: float | None = None,\n",
        "):\n",
        "    if 'Date' not in initial_df.columns:\n",
        "      initial_df.reset_index(inplace=True)\n",
        "\n",
        "    df = initial_df.copy()\n",
        "    df[\"Date\"] = pd.to_datetime(df[\"Date\"])\n",
        "    df.set_index(\"Date\", inplace=True)\n",
        "\n",
        "    if randomize:\n",
        "        np.random.seed(seed)\n",
        "        if implied_volatility is None:\n",
        "          vol = np.log(df[\"Price\"] / df[\"Price\"].shift(1)).std()\n",
        "        else:\n",
        "          vol = implied_volatility / days ** 0.5\n",
        "\n",
        "    # ---------- helper to build one feature row ----------\n",
        "    def build_row(prices: pd.Series) -> dict:\n",
        "        hist = prices\n",
        "        row  = {}\n",
        "\n",
        "        row[\"Price_SMA_5\"]   = hist.rolling(5).mean().iloc[-1]\n",
        "        row[\"Price_SMA_10\"]  = hist.rolling(10).mean().iloc[-1]\n",
        "        row[\"Price_SMA_20\"]  = hist.rolling(20).mean().iloc[-1]\n",
        "        row[\"Price_Rolling_Std_20\"] = hist.rolling(20).std().iloc[-1]\n",
        "\n",
        "        sma20, std20 = row[\"Price_SMA_20\"], row[\"Price_Rolling_Std_20\"]\n",
        "        row[\"Upper_Band\"] = None if pd.isna(sma20) else sma20 + 2 * std20\n",
        "        row[\"Lower_Band\"] = None if pd.isna(sma20) else sma20 - 2 * std20\n",
        "\n",
        "        if len(hist) >= 15:\n",
        "            d  = hist.diff()\n",
        "            g  = d.clip(lower=0).rolling(14).mean().iloc[-1]\n",
        "            l  = (-d.clip(upper=0)).rolling(14).mean().iloc[-1]\n",
        "            rs = np.inf if l == 0 else g / l\n",
        "            row[\"Price_RSI_14\"] = 100 - 100 / (1 + rs)\n",
        "        else:\n",
        "            row[\"Price_RSI_14\"] = np.nan\n",
        "\n",
        "        lag = hist.iloc[-1]\n",
        "        row[\"Price_lag1\"] = lag\n",
        "        row[\"Price_vs_SMA_5\"]   = lag - row[\"Price_SMA_5\"]\n",
        "        row[\"Price_vs_SMA_10\"]  = lag - row[\"Price_SMA_10\"]\n",
        "        row[\"Price_vs_SMA_20\"]  = lag - row[\"Price_SMA_20\"]\n",
        "        row[\"Price_vs_Upper_Band\"] = lag - row[\"Upper_Band\"]\n",
        "        row[\"Price_vs_Lower_Band\"] = lag - row[\"Lower_Band\"]\n",
        "        return row\n",
        "    # -----------------------------------------------------\n",
        "\n",
        "    for _ in range(days):\n",
        "        feat_row = build_row(df[\"Price\"])\n",
        "        X_next   = pd.DataFrame([feat_row])[features]\n",
        "\n",
        "        # skip until all needed indicators available\n",
        "        if X_next.isnull().any(axis=None):\n",
        "            break\n",
        "\n",
        "        # ----------  SCALE before predict  ----------\n",
        "        X_next_scaled = scaler.transform(X_next)\n",
        "        next_price    = model.predict(X_next_scaled)[0]\n",
        "\n",
        "        if randomize:\n",
        "            next_price *= np.exp(np.random.normal(0, vol))\n",
        "\n",
        "        new_date          = df.index[-1] + pd.Timedelta(days=1)\n",
        "        feat_row[\"Price\"] = next_price\n",
        "        df = pd.concat([df, pd.DataFrame(feat_row, index=[new_date])])\n",
        "\n",
        "    return df.reset_index()\n"
      ],
      "metadata": {
        "id": "0DByfMgAzxL2"
      },
      "execution_count": 273,
      "outputs": []
    },
    {
      "cell_type": "markdown",
      "source": [
        "Optimized Model"
      ],
      "metadata": {
        "id": "MEv17KVjP827"
      }
    },
    {
      "cell_type": "code",
      "source": [
        "feature_means = scaler.mean_.astype(np.float64)\n",
        "feature_stds  = scaler.scale_.astype(np.float64)\n",
        "booster       = xgb_model.get_booster()\n",
        "\n",
        "@nb.njit\n",
        "def build_feature_matrix(prices0, days,\n",
        "                         mu_g, mu_l,\n",
        "                         sma5, sma10, sma20, var20):\n",
        "    \"\"\"Return (feature_matrix, placeholder_prices).\"\"\"\n",
        "    n_feat = 12\n",
        "    feats  = np.empty((days, n_feat), np.float64)\n",
        "    w5, w10, w20 = prices0[-5:].copy(), prices0[-10:].copy(), prices0[-20:].copy()\n",
        "    i5 = i10 = i20 = 0\n",
        "    last_p = prices0[-1]\n",
        "\n",
        "    for t in range(days):\n",
        "        std20 = np.sqrt(var20)\n",
        "        upper = sma20 + 2 * std20\n",
        "        lower = sma20 - 2 * std20\n",
        "        rsi14 = 100 - 100 / (1 + mu_g / mu_l)\n",
        "\n",
        "        feats[t, 0]  = sma5\n",
        "        feats[t, 1]  = sma10\n",
        "        feats[t, 2]  = sma20\n",
        "        feats[t, 3]  = rsi14\n",
        "        feats[t, 4]  = std20\n",
        "        feats[t, 5]  = upper\n",
        "        feats[t, 6]  = lower\n",
        "        feats[t, 7]  = last_p - sma5\n",
        "        feats[t, 8]  = last_p - sma10\n",
        "        feats[t, 9]  = last_p - sma20\n",
        "        feats[t,10]  = last_p - upper\n",
        "        feats[t,11]  = last_p - lower\n",
        "\n",
        "        # ========== update windows WITH PLACEHOLDER 0 (real price later) ==\n",
        "        new_p = 0.0\n",
        "        feats[t, :]  # stored; will scale later\n",
        "\n",
        "        sma5  += (new_p - w5[i5])  / 5.0;   w5[i5]  = new_p;   i5  = (i5+1)%5\n",
        "        sma10 += (new_p - w10[i10]) /10.0;  w10[i10]= new_p;   i10 = (i10+1)%10\n",
        "        old20 = w20[i20]\n",
        "        sma20 += (new_p - old20) / 20.0\n",
        "        var20 += (new_p - sma20)*(new_p - sma20) - (old20 - sma20)*(old20 - sma20)\n",
        "        w20[i20] = new_p; i20 = (i20+1)%20\n",
        "\n",
        "        delta = new_p - last_p\n",
        "        gain  = max(delta,0.0); loss = max(-delta,0.0)\n",
        "        alpha = 1/14.0\n",
        "        mu_g = (1-alpha)*mu_g + alpha*gain\n",
        "        mu_l = (1-alpha)*mu_l + alpha*loss if mu_l!=0 else 1e-8\n",
        "        last_p = new_p\n",
        "    return feats\n",
        "\n",
        "# --------------------------- 4. high-level wrapper -----------------------\n",
        "def run_brent_sim(\n",
        "    initial_df: pd.DataFrame,\n",
        "    days: int,\n",
        "    booster,\n",
        "    scaler,\n",
        "    implied_vol_annual: float | None = None,\n",
        "    randomize: bool = False,\n",
        "    seed: int | None = None,\n",
        ") -> pd.DataFrame:\n",
        "    \"\"\"Return historical + simulated Brent prices for `days` steps.\"\"\"\n",
        "    df0 = initial_df.copy()\n",
        "    if 'Date' not in df0.columns:\n",
        "        df0.reset_index(inplace=True)\n",
        "    df0['Date'] = pd.to_datetime(df0['Date'])\n",
        "    df0.sort_values('Date', inplace=True)\n",
        "    prices = df0['Price'].values.astype(np.float64)\n",
        "\n",
        "    # warm-start RSI means\n",
        "    d14 = np.diff(prices[-15:])\n",
        "    mu_g = d14[d14>0].mean() if (d14>0).any() else 0.0\n",
        "    mu_l = (-d14[d14<0]).mean() if (d14<0).any() else 1e-8\n",
        "\n",
        "    sma5, sma10, sma20 = prices[-5:].mean(), prices[-10:].mean(), prices[-20:].mean()\n",
        "    var20 = prices[-20:].var(ddof=0)\n",
        "\n",
        "    # build raw feature matrix (unscaled) with numba\n",
        "    raw_feats = build_feature_matrix(prices, days, mu_g, mu_l,\n",
        "                                     sma5, sma10, sma20, var20)\n",
        "\n",
        "    # scale whole matrix once\n",
        "    feat_mat = (raw_feats - feature_means) / feature_stds\n",
        "\n",
        "    # XGBoost batch prediction\n",
        "    preds = booster.inplace_predict(feat_mat)\n",
        "\n",
        "    # optional Monte-Carlo shocks\n",
        "    if randomize:\n",
        "        np.random.seed(seed)\n",
        "        sig_d = (implied_vol_annual/np.sqrt(days) if implied_vol_annual\n",
        "                 else np.log(prices[1:]/prices[:-1]).std(ddof=0))\n",
        "        preds *= np.exp(np.random.normal(0., sig_d, size=days))\n",
        "\n",
        "    start_date  = df0['Date'].iloc[-1] + pd.Timedelta(days=1)\n",
        "    future_dates = pd.date_range(start_date, periods=days)\n",
        "    sim_df       = pd.DataFrame({'Date': future_dates, 'Price': preds})\n",
        "\n",
        "    return pd.concat([df0[['Date', 'Price']], sim_df], ignore_index=True)\n"
      ],
      "metadata": {
        "id": "gbyrM_K9P8Ur"
      },
      "execution_count": 274,
      "outputs": []
    },
    {
      "cell_type": "code",
      "source": [
        "implied_volatility = 0.305\n",
        "\n",
        "# simulation_results_df = run_occurence(days=180, randomize=True, seed=32, initial_df = xgb_df, model=xgb_model,scaler=scaler, features=exogenous_features_xgb, implied_volatility = implied_volatility)\n",
        "simulation_results_df = run_brent_sim(days=180, randomize=True, seed=32, initial_df = xgb_df, booster=booster, scaler=scaler, implied_vol_annual=implied_volatility)\n",
        "\n",
        "plt.plot(simulation_results_df['Price'], label='Simulated Price')\n",
        "plt.plot(xgb_df['Price'], label='Actual Price')\n",
        "plt.title('Simulated vs Actual Brent Crude Oil Price')\n",
        "plt.xlabel('Date')\n",
        "plt.ylabel('Price')\n",
        "plt.legend()\n",
        "plt.show()\n",
        "\n",
        "print(simulation_results_df.tail(94))"
      ],
      "metadata": {
        "colab": {
          "base_uri": "https://localhost:8080/",
          "height": 769
        },
        "id": "f0PgF_vz1TBa",
        "outputId": "c06841e4-064a-462e-db9e-436c532580b9"
      },
      "execution_count": 278,
      "outputs": [
        {
          "output_type": "error",
          "ename": "TypeError",
          "evalue": "float() argument must be a string or a real number, not 'Timestamp'",
          "traceback": [
            "\u001b[0;31m---------------------------------------------------------------------------\u001b[0m",
            "\u001b[0;31mTypeError\u001b[0m                                 Traceback (most recent call last)",
            "\u001b[0;32m/tmp/ipython-input-278-3131497841.py\u001b[0m in \u001b[0;36m<cell line: 0>\u001b[0;34m()\u001b[0m\n\u001b[1;32m      5\u001b[0m \u001b[0;34m\u001b[0m\u001b[0m\n\u001b[1;32m      6\u001b[0m \u001b[0mplt\u001b[0m\u001b[0;34m.\u001b[0m\u001b[0mplot\u001b[0m\u001b[0;34m(\u001b[0m\u001b[0mxgb_df\u001b[0m\u001b[0;34m.\u001b[0m\u001b[0mindex\u001b[0m\u001b[0;34m,\u001b[0m              \u001b[0mxgb_df\u001b[0m\u001b[0;34m[\u001b[0m\u001b[0;34m'Price'\u001b[0m\u001b[0;34m]\u001b[0m\u001b[0;34m,\u001b[0m              \u001b[0mlabel\u001b[0m\u001b[0;34m=\u001b[0m\u001b[0;34m'Actual'\u001b[0m\u001b[0;34m,\u001b[0m    \u001b[0mcolor\u001b[0m\u001b[0;34m=\u001b[0m\u001b[0;34m'orange'\u001b[0m\u001b[0;34m)\u001b[0m\u001b[0;34m\u001b[0m\u001b[0;34m\u001b[0m\u001b[0m\n\u001b[0;32m----> 7\u001b[0;31m \u001b[0mplt\u001b[0m\u001b[0;34m.\u001b[0m\u001b[0mplot\u001b[0m\u001b[0;34m(\u001b[0m\u001b[0msimulation_results_df\u001b[0m\u001b[0;34m.\u001b[0m\u001b[0mindex\u001b[0m\u001b[0;34m,\u001b[0m \u001b[0msimulation_results_df\u001b[0m\u001b[0;34m[\u001b[0m\u001b[0;34m'Price'\u001b[0m\u001b[0;34m]\u001b[0m\u001b[0;34m,\u001b[0m \u001b[0mlabel\u001b[0m\u001b[0;34m=\u001b[0m\u001b[0;34m'Simulated'\u001b[0m\u001b[0;34m,\u001b[0m \u001b[0mcolor\u001b[0m\u001b[0;34m=\u001b[0m\u001b[0;34m'steelblue'\u001b[0m\u001b[0;34m)\u001b[0m\u001b[0;34m\u001b[0m\u001b[0;34m\u001b[0m\u001b[0m\n\u001b[0m\u001b[1;32m      8\u001b[0m \u001b[0mplt\u001b[0m\u001b[0;34m.\u001b[0m\u001b[0mtitle\u001b[0m\u001b[0;34m(\u001b[0m\u001b[0;34m'Simulated vs Actual Brent Crude'\u001b[0m\u001b[0;34m)\u001b[0m\u001b[0;34m;\u001b[0m \u001b[0mplt\u001b[0m\u001b[0;34m.\u001b[0m\u001b[0mxlabel\u001b[0m\u001b[0;34m(\u001b[0m\u001b[0;34m'Date'\u001b[0m\u001b[0;34m)\u001b[0m\u001b[0;34m;\u001b[0m \u001b[0mplt\u001b[0m\u001b[0;34m.\u001b[0m\u001b[0mylabel\u001b[0m\u001b[0;34m(\u001b[0m\u001b[0;34m'Price'\u001b[0m\u001b[0;34m)\u001b[0m\u001b[0;34m;\u001b[0m \u001b[0mplt\u001b[0m\u001b[0;34m.\u001b[0m\u001b[0mlegend\u001b[0m\u001b[0;34m(\u001b[0m\u001b[0;34m)\u001b[0m\u001b[0;34m;\u001b[0m \u001b[0mplt\u001b[0m\u001b[0;34m.\u001b[0m\u001b[0mshow\u001b[0m\u001b[0;34m(\u001b[0m\u001b[0;34m)\u001b[0m\u001b[0;34m\u001b[0m\u001b[0;34m\u001b[0m\u001b[0m\n\u001b[1;32m      9\u001b[0m \u001b[0;34m\u001b[0m\u001b[0m\n",
            "\u001b[0;32m/usr/local/lib/python3.11/dist-packages/matplotlib/pyplot.py\u001b[0m in \u001b[0;36mplot\u001b[0;34m(scalex, scaley, data, *args, **kwargs)\u001b[0m\n\u001b[1;32m   3827\u001b[0m     \u001b[0;34m**\u001b[0m\u001b[0mkwargs\u001b[0m\u001b[0;34m,\u001b[0m\u001b[0;34m\u001b[0m\u001b[0;34m\u001b[0m\u001b[0m\n\u001b[1;32m   3828\u001b[0m ) -> list[Line2D]:\n\u001b[0;32m-> 3829\u001b[0;31m     return gca().plot(\n\u001b[0m\u001b[1;32m   3830\u001b[0m         \u001b[0;34m*\u001b[0m\u001b[0margs\u001b[0m\u001b[0;34m,\u001b[0m\u001b[0;34m\u001b[0m\u001b[0;34m\u001b[0m\u001b[0m\n\u001b[1;32m   3831\u001b[0m         \u001b[0mscalex\u001b[0m\u001b[0;34m=\u001b[0m\u001b[0mscalex\u001b[0m\u001b[0;34m,\u001b[0m\u001b[0;34m\u001b[0m\u001b[0;34m\u001b[0m\u001b[0m\n",
            "\u001b[0;32m/usr/local/lib/python3.11/dist-packages/matplotlib/axes/_axes.py\u001b[0m in \u001b[0;36mplot\u001b[0;34m(self, scalex, scaley, data, *args, **kwargs)\u001b[0m\n\u001b[1;32m   1777\u001b[0m         \u001b[0mlines\u001b[0m \u001b[0;34m=\u001b[0m \u001b[0;34m[\u001b[0m\u001b[0;34m*\u001b[0m\u001b[0mself\u001b[0m\u001b[0;34m.\u001b[0m\u001b[0m_get_lines\u001b[0m\u001b[0;34m(\u001b[0m\u001b[0mself\u001b[0m\u001b[0;34m,\u001b[0m \u001b[0;34m*\u001b[0m\u001b[0margs\u001b[0m\u001b[0;34m,\u001b[0m \u001b[0mdata\u001b[0m\u001b[0;34m=\u001b[0m\u001b[0mdata\u001b[0m\u001b[0;34m,\u001b[0m \u001b[0;34m**\u001b[0m\u001b[0mkwargs\u001b[0m\u001b[0;34m)\u001b[0m\u001b[0;34m]\u001b[0m\u001b[0;34m\u001b[0m\u001b[0;34m\u001b[0m\u001b[0m\n\u001b[1;32m   1778\u001b[0m         \u001b[0;32mfor\u001b[0m \u001b[0mline\u001b[0m \u001b[0;32min\u001b[0m \u001b[0mlines\u001b[0m\u001b[0;34m:\u001b[0m\u001b[0;34m\u001b[0m\u001b[0;34m\u001b[0m\u001b[0m\n\u001b[0;32m-> 1779\u001b[0;31m             \u001b[0mself\u001b[0m\u001b[0;34m.\u001b[0m\u001b[0madd_line\u001b[0m\u001b[0;34m(\u001b[0m\u001b[0mline\u001b[0m\u001b[0;34m)\u001b[0m\u001b[0;34m\u001b[0m\u001b[0;34m\u001b[0m\u001b[0m\n\u001b[0m\u001b[1;32m   1780\u001b[0m         \u001b[0;32mif\u001b[0m \u001b[0mscalex\u001b[0m\u001b[0;34m:\u001b[0m\u001b[0;34m\u001b[0m\u001b[0;34m\u001b[0m\u001b[0m\n\u001b[1;32m   1781\u001b[0m             \u001b[0mself\u001b[0m\u001b[0;34m.\u001b[0m\u001b[0m_request_autoscale_view\u001b[0m\u001b[0;34m(\u001b[0m\u001b[0;34m\"x\"\u001b[0m\u001b[0;34m)\u001b[0m\u001b[0;34m\u001b[0m\u001b[0;34m\u001b[0m\u001b[0m\n",
            "\u001b[0;32m/usr/local/lib/python3.11/dist-packages/matplotlib/axes/_base.py\u001b[0m in \u001b[0;36madd_line\u001b[0;34m(self, line)\u001b[0m\n\u001b[1;32m   2369\u001b[0m             \u001b[0mline\u001b[0m\u001b[0;34m.\u001b[0m\u001b[0mset_clip_path\u001b[0m\u001b[0;34m(\u001b[0m\u001b[0mself\u001b[0m\u001b[0;34m.\u001b[0m\u001b[0mpatch\u001b[0m\u001b[0;34m)\u001b[0m\u001b[0;34m\u001b[0m\u001b[0;34m\u001b[0m\u001b[0m\n\u001b[1;32m   2370\u001b[0m \u001b[0;34m\u001b[0m\u001b[0m\n\u001b[0;32m-> 2371\u001b[0;31m         \u001b[0mself\u001b[0m\u001b[0;34m.\u001b[0m\u001b[0m_update_line_limits\u001b[0m\u001b[0;34m(\u001b[0m\u001b[0mline\u001b[0m\u001b[0;34m)\u001b[0m\u001b[0;34m\u001b[0m\u001b[0;34m\u001b[0m\u001b[0m\n\u001b[0m\u001b[1;32m   2372\u001b[0m         \u001b[0;32mif\u001b[0m \u001b[0;32mnot\u001b[0m \u001b[0mline\u001b[0m\u001b[0;34m.\u001b[0m\u001b[0mget_label\u001b[0m\u001b[0;34m(\u001b[0m\u001b[0;34m)\u001b[0m\u001b[0;34m:\u001b[0m\u001b[0;34m\u001b[0m\u001b[0;34m\u001b[0m\u001b[0m\n\u001b[1;32m   2373\u001b[0m             \u001b[0mline\u001b[0m\u001b[0;34m.\u001b[0m\u001b[0mset_label\u001b[0m\u001b[0;34m(\u001b[0m\u001b[0;34mf'_child{len(self._children)}'\u001b[0m\u001b[0;34m)\u001b[0m\u001b[0;34m\u001b[0m\u001b[0;34m\u001b[0m\u001b[0m\n",
            "\u001b[0;32m/usr/local/lib/python3.11/dist-packages/matplotlib/axes/_base.py\u001b[0m in \u001b[0;36m_update_line_limits\u001b[0;34m(self, line)\u001b[0m\n\u001b[1;32m   2392\u001b[0m         \u001b[0mFigures\u001b[0m \u001b[0mout\u001b[0m \u001b[0mthe\u001b[0m \u001b[0mdata\u001b[0m \u001b[0mlimit\u001b[0m \u001b[0mof\u001b[0m \u001b[0mthe\u001b[0m \u001b[0mgiven\u001b[0m \u001b[0mline\u001b[0m\u001b[0;34m,\u001b[0m \u001b[0mupdating\u001b[0m\u001b[0;31m \u001b[0m\u001b[0;31m`\u001b[0m\u001b[0;34m.\u001b[0m\u001b[0mAxes\u001b[0m\u001b[0;34m.\u001b[0m\u001b[0mdataLim\u001b[0m\u001b[0;31m`\u001b[0m\u001b[0;34m.\u001b[0m\u001b[0;34m\u001b[0m\u001b[0;34m\u001b[0m\u001b[0m\n\u001b[1;32m   2393\u001b[0m         \"\"\"\n\u001b[0;32m-> 2394\u001b[0;31m         \u001b[0mpath\u001b[0m \u001b[0;34m=\u001b[0m \u001b[0mline\u001b[0m\u001b[0;34m.\u001b[0m\u001b[0mget_path\u001b[0m\u001b[0;34m(\u001b[0m\u001b[0;34m)\u001b[0m\u001b[0;34m\u001b[0m\u001b[0;34m\u001b[0m\u001b[0m\n\u001b[0m\u001b[1;32m   2395\u001b[0m         \u001b[0;32mif\u001b[0m \u001b[0mpath\u001b[0m\u001b[0;34m.\u001b[0m\u001b[0mvertices\u001b[0m\u001b[0;34m.\u001b[0m\u001b[0msize\u001b[0m \u001b[0;34m==\u001b[0m \u001b[0;36m0\u001b[0m\u001b[0;34m:\u001b[0m\u001b[0;34m\u001b[0m\u001b[0;34m\u001b[0m\u001b[0m\n\u001b[1;32m   2396\u001b[0m             \u001b[0;32mreturn\u001b[0m\u001b[0;34m\u001b[0m\u001b[0;34m\u001b[0m\u001b[0m\n",
            "\u001b[0;32m/usr/local/lib/python3.11/dist-packages/matplotlib/lines.py\u001b[0m in \u001b[0;36mget_path\u001b[0;34m(self)\u001b[0m\n\u001b[1;32m   1036\u001b[0m         \u001b[0;34m\"\"\"Return the `~matplotlib.path.Path` associated with this line.\"\"\"\u001b[0m\u001b[0;34m\u001b[0m\u001b[0;34m\u001b[0m\u001b[0m\n\u001b[1;32m   1037\u001b[0m         \u001b[0;32mif\u001b[0m \u001b[0mself\u001b[0m\u001b[0;34m.\u001b[0m\u001b[0m_invalidy\u001b[0m \u001b[0;32mor\u001b[0m \u001b[0mself\u001b[0m\u001b[0;34m.\u001b[0m\u001b[0m_invalidx\u001b[0m\u001b[0;34m:\u001b[0m\u001b[0;34m\u001b[0m\u001b[0;34m\u001b[0m\u001b[0m\n\u001b[0;32m-> 1038\u001b[0;31m             \u001b[0mself\u001b[0m\u001b[0;34m.\u001b[0m\u001b[0mrecache\u001b[0m\u001b[0;34m(\u001b[0m\u001b[0;34m)\u001b[0m\u001b[0;34m\u001b[0m\u001b[0;34m\u001b[0m\u001b[0m\n\u001b[0m\u001b[1;32m   1039\u001b[0m         \u001b[0;32mreturn\u001b[0m \u001b[0mself\u001b[0m\u001b[0;34m.\u001b[0m\u001b[0m_path\u001b[0m\u001b[0;34m\u001b[0m\u001b[0;34m\u001b[0m\u001b[0m\n\u001b[1;32m   1040\u001b[0m \u001b[0;34m\u001b[0m\u001b[0m\n",
            "\u001b[0;32m/usr/local/lib/python3.11/dist-packages/matplotlib/lines.py\u001b[0m in \u001b[0;36mrecache\u001b[0;34m(self, always)\u001b[0m\n\u001b[1;32m    673\u001b[0m         \u001b[0;32mif\u001b[0m \u001b[0malways\u001b[0m \u001b[0;32mor\u001b[0m \u001b[0mself\u001b[0m\u001b[0;34m.\u001b[0m\u001b[0m_invalidx\u001b[0m\u001b[0;34m:\u001b[0m\u001b[0;34m\u001b[0m\u001b[0;34m\u001b[0m\u001b[0m\n\u001b[1;32m    674\u001b[0m             \u001b[0mxconv\u001b[0m \u001b[0;34m=\u001b[0m \u001b[0mself\u001b[0m\u001b[0;34m.\u001b[0m\u001b[0mconvert_xunits\u001b[0m\u001b[0;34m(\u001b[0m\u001b[0mself\u001b[0m\u001b[0;34m.\u001b[0m\u001b[0m_xorig\u001b[0m\u001b[0;34m)\u001b[0m\u001b[0;34m\u001b[0m\u001b[0;34m\u001b[0m\u001b[0m\n\u001b[0;32m--> 675\u001b[0;31m             \u001b[0mx\u001b[0m \u001b[0;34m=\u001b[0m \u001b[0m_to_unmasked_float_array\u001b[0m\u001b[0;34m(\u001b[0m\u001b[0mxconv\u001b[0m\u001b[0;34m)\u001b[0m\u001b[0;34m.\u001b[0m\u001b[0mravel\u001b[0m\u001b[0;34m(\u001b[0m\u001b[0;34m)\u001b[0m\u001b[0;34m\u001b[0m\u001b[0;34m\u001b[0m\u001b[0m\n\u001b[0m\u001b[1;32m    676\u001b[0m         \u001b[0;32melse\u001b[0m\u001b[0;34m:\u001b[0m\u001b[0;34m\u001b[0m\u001b[0;34m\u001b[0m\u001b[0m\n\u001b[1;32m    677\u001b[0m             \u001b[0mx\u001b[0m \u001b[0;34m=\u001b[0m \u001b[0mself\u001b[0m\u001b[0;34m.\u001b[0m\u001b[0m_x\u001b[0m\u001b[0;34m\u001b[0m\u001b[0;34m\u001b[0m\u001b[0m\n",
            "\u001b[0;32m/usr/local/lib/python3.11/dist-packages/matplotlib/cbook.py\u001b[0m in \u001b[0;36m_to_unmasked_float_array\u001b[0;34m(x)\u001b[0m\n\u001b[1;32m   1343\u001b[0m         \u001b[0;32mreturn\u001b[0m \u001b[0mnp\u001b[0m\u001b[0;34m.\u001b[0m\u001b[0mma\u001b[0m\u001b[0;34m.\u001b[0m\u001b[0masarray\u001b[0m\u001b[0;34m(\u001b[0m\u001b[0mx\u001b[0m\u001b[0;34m,\u001b[0m \u001b[0mfloat\u001b[0m\u001b[0;34m)\u001b[0m\u001b[0;34m.\u001b[0m\u001b[0mfilled\u001b[0m\u001b[0;34m(\u001b[0m\u001b[0mnp\u001b[0m\u001b[0;34m.\u001b[0m\u001b[0mnan\u001b[0m\u001b[0;34m)\u001b[0m\u001b[0;34m\u001b[0m\u001b[0;34m\u001b[0m\u001b[0m\n\u001b[1;32m   1344\u001b[0m     \u001b[0;32melse\u001b[0m\u001b[0;34m:\u001b[0m\u001b[0;34m\u001b[0m\u001b[0;34m\u001b[0m\u001b[0m\n\u001b[0;32m-> 1345\u001b[0;31m         \u001b[0;32mreturn\u001b[0m \u001b[0mnp\u001b[0m\u001b[0;34m.\u001b[0m\u001b[0masarray\u001b[0m\u001b[0;34m(\u001b[0m\u001b[0mx\u001b[0m\u001b[0;34m,\u001b[0m \u001b[0mfloat\u001b[0m\u001b[0;34m)\u001b[0m\u001b[0;34m\u001b[0m\u001b[0;34m\u001b[0m\u001b[0m\n\u001b[0m\u001b[1;32m   1346\u001b[0m \u001b[0;34m\u001b[0m\u001b[0m\n\u001b[1;32m   1347\u001b[0m \u001b[0;34m\u001b[0m\u001b[0m\n",
            "\u001b[0;31mTypeError\u001b[0m: float() argument must be a string or a real number, not 'Timestamp'"
          ]
        },
        {
          "output_type": "display_data",
          "data": {
            "text/plain": [
              "<Figure size 640x480 with 1 Axes>"
            ],
            "image/png": "[encoded data removed]"
          },
          "metadata": {}
        }
      ]
    },
    {
      "cell_type": "code",
      "source": [
        "def get_cmap(n, name='hsv'):\n",
        "    '''Returns a function that maps each index in 0, 1, ..., n-1 to a distinct\n",
        "    RGB color; the keyword argument name must be a standard mpl colormap name.'''\n",
        "    return plt.cm.get_cmap(name, n)"
      ],
      "metadata": {
        "id": "inNdNcFrESIg"
      },
      "execution_count": null,
      "outputs": []
    },
    {
      "cell_type": "code",
      "source": [
        "xgb_df.head()"
      ],
      "metadata": {
        "id": "UYR4D4rbFB7R"
      },
      "execution_count": null,
      "outputs": []
    },
    {
      "cell_type": "code",
      "source": [
        "simulated_final_prices = []\n",
        "\n",
        "\n",
        "num_of_sims = 100\n",
        "\n",
        "seed_salt = np.random.randint(0, 10*num_of_sims)\n",
        "\n",
        "cmap = get_cmap(num_of_sims)\n",
        "\n",
        "for i in range(num_of_sims):\n",
        "  curr_df = run_occurence(days=180, randomize=True, seed=i+seed_salt, initial_df = xgb_df, model=xgb_model,scaler=scaler, features=exogenous_features_xgb)\n",
        "  simulated_final_prices.append(curr_df['Price'].iloc[-1])\n",
        "  print(i,curr_df['Price'].iloc[-1])\n",
        "  # plt.plot(curr_df['Price'], label=f'Simulated Price {i+1}', c=cmap(i))\n",
        "\n",
        "# plt.plot(xgb_df.loc['Date' > '2024-06-01','Price'], label='Actual Price', color='red')\n",
        "# plt.title('Simulated vs Actual WTI Crude Oil Price')\n",
        "# plt.xlabel('Date')\n",
        "# plt.ylabel('Price')\n",
        "# plt.legend()\n",
        "# plt.show()"
      ],
      "metadata": {
        "id": "6_hHKdDx3hKf"
      },
      "execution_count": null,
      "outputs": []
    },
    {
      "cell_type": "code",
      "source": [
        "print('Average: ', np.mean(simulated_final_prices))\n",
        "print('Max: ', np.max(simulated_final_prices))\n",
        "print('Min: ', np.min(simulated_final_prices))\n",
        "print('Median: ', np.median(simulated_final_prices))\n",
        "\n",
        "plt.hist(simulated_final_prices, bins=20, alpha=0.7)\n",
        "plt.title('Distribution of Simulated Final Prices')\n",
        "plt.xlabel('Price')\n",
        "plt.ylabel('Frequency')\n",
        "plt.show()"
      ],
      "metadata": {
        "id": "rVMTgFlXLY2h"
      },
      "execution_count": null,
      "outputs": []
    }
  ],
  "metadata": {
    "colab": {
      "name": "Welcome To Colab",
      "provenance": []
    },
    "kernelspec": {
      "display_name": "Python 3",
      "name": "python3"
    }
  },
  "nbformat": 4,
  "nbformat_minor": 0
}